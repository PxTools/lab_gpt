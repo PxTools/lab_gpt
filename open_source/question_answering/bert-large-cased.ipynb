{
 "cells": [
  {
   "cell_type": "markdown",
   "metadata": {},
   "source": [
    "# Kjøre modellen lokalt\n",
    "### Laste inn modellen fra Hugging Face"
   ]
  },
  {
   "cell_type": "code",
   "execution_count": 2,
   "metadata": {},
   "outputs": [
    {
     "name": "stderr",
     "output_type": "stream",
     "text": [
      "/opt/homebrew/lib/python3.11/site-packages/tqdm/auto.py:21: TqdmWarning: IProgress not found. Please update jupyter and ipywidgets. See https://ipywidgets.readthedocs.io/en/stable/user_install.html\n",
      "  from .autonotebook import tqdm as notebook_tqdm\n",
      "tokenizer_config.json: 100%|██████████| 29.0/29.0 [00:00<00:00, 105kB/s]\n",
      "config.json: 100%|██████████| 634/634 [00:00<00:00, 7.03MB/s]\n",
      "vocab.txt: 100%|██████████| 213k/213k [00:00<00:00, 896kB/s]\n",
      "tokenizer.json: 100%|██████████| 436k/436k [00:00<00:00, 1.25MB/s]\n",
      "model.safetensors: 100%|██████████| 1.33G/1.33G [02:08<00:00, 10.3MB/s]\n",
      "Some weights of the model checkpoint at bert-large-cased-whole-word-masking-finetuned-squad were not used when initializing BertForQuestionAnswering: ['bert.pooler.dense.weight', 'bert.pooler.dense.bias']\n",
      "- This IS expected if you are initializing BertForQuestionAnswering from the checkpoint of a model trained on another task or with another architecture (e.g. initializing a BertForSequenceClassification model from a BertForPreTraining model).\n",
      "- This IS NOT expected if you are initializing BertForQuestionAnswering from the checkpoint of a model that you expect to be exactly identical (initializing a BertForSequenceClassification model from a BertForSequenceClassification model).\n"
     ]
    }
   ],
   "source": [
    "# Load model directly\n",
    "from transformers import AutoTokenizer, AutoModelForQuestionAnswering, pipeline\n",
    "\n",
    "tokenizer = AutoTokenizer.from_pretrained(\"bert-large-cased-whole-word-masking-finetuned-squad\")\n",
    "model = AutoModelForQuestionAnswering.from_pretrained(\"bert-large-cased-whole-word-masking-finetuned-squad\")"
   ]
  },
  {
   "cell_type": "markdown",
   "metadata": {},
   "source": [
    "### Initialisere pipeline"
   ]
  },
  {
   "cell_type": "code",
   "execution_count": 3,
   "metadata": {},
   "outputs": [],
   "source": [
    "# Initialize the pipeline\n",
    "# Use a pipeline as a high-level helper\n",
    "\n",
    "\n",
    "pipe = pipeline(\"question-answering\", model=model, tokenizer=tokenizer)"
   ]
  },
  {
   "cell_type": "markdown",
   "metadata": {},
   "source": [
    "### Utforme spørring og gi modellen en context "
   ]
  },
  {
   "cell_type": "code",
   "execution_count": 4,
   "metadata": {},
   "outputs": [
    {
     "name": "stdout",
     "output_type": "stream",
     "text": [
      "{'score': 0.3525642454624176, 'start': 292, 'end': 310, 'answer': '25, 30, 18, 12, 34'}\n"
     ]
    }
   ],
   "source": [
    "context = {\n",
    "    \"Player Name\": [\"Lionel Messi\", \"Cristiano Ronaldo\", \"Neymar Jr\", \"Kevin De Bruyne\", \"Robert Lewandowski\"],\n",
    "    \"Team\": [\"Paris Saint-Germain\", \"Al Nassr\", \"Paris Saint-Germain\", \"Manchester City\", \"Barcelona\"],\n",
    "    \"Nationality\": [\"Argentina\", \"Portugal\", \"Brazil\", \"Belgium\", \"Poland\"],\n",
    "    \"Goals\": [25, 30, 18, 12, 34],\n",
    "    \"Assists\": [18, 15, 20, 25, 10],\n",
    "    \"Passes Completed\": [2050, 1800, 1900, 2300, 1500],\n",
    "    \"Matches Played\": [30, 33, 29, 32, 31],\n",
    "    \"Yellow Cards\": [2, 3, 4, 1, 5],\n",
    "    \"Red Cards\": [0, 1, 0, 0, 1]\n",
    "}\n",
    "\n",
    "context_str = str(context)\n",
    "\n",
    "\n",
    "QA_input = {\n",
    "    'question': 'Who scored the highest number of goals?',\n",
    "    'context': context_str\n",
    "}\n",
    "\n",
    "res = pipe(QA_input)\n",
    "print(res)"
   ]
  },
  {
   "cell_type": "markdown",
   "metadata": {},
   "source": [
    "Modellen gir her hetl feil svar, men til gjengjeld så indikerer den kun 35% sikker på sitt svar. "
   ]
  },
  {
   "cell_type": "code",
   "execution_count": 6,
   "metadata": {},
   "outputs": [
    {
     "name": "stdout",
     "output_type": "stream",
     "text": [
      "{'score': 4.072657247888856e-06, 'start': 98, 'end': 153, 'answer': 'The text should consist of complete and valid sentences'}\n"
     ]
    }
   ],
   "source": [
    "context = {\n",
    "    \"Player Name\": [\"Lionel Messi\", \"Cristiano Ronaldo\", \"Neymar Jr\", \"Kevin De Bruyne\", \"Robert Lewandowski\"],\n",
    "    \"Team\": [\"Paris Saint-Germain\", \"Al Nassr\", \"Paris Saint-Germain\", \"Manchester City\", \"Barcelona\"],\n",
    "    \"Nationality\": [\"Argentina\", \"Portugal\", \"Brazil\", \"Belgium\", \"Poland\"],\n",
    "    \"Goals\": [25, 30, 18, 12, 34],\n",
    "    \"Assists\": [18, 15, 20, 25, 10],\n",
    "    \"Passes Completed\": [2050, 1800, 1900, 2300, 1500],\n",
    "    \"Matches Played\": [30, 33, 29, 32, 31],\n",
    "    \"Yellow Cards\": [2, 3, 4, 1, 5],\n",
    "    \"Red Cards\": [0, 1, 0, 0, 1]\n",
    "}\n",
    "\n",
    "data_str = \"Convert the data to normal text: \" + str(context)\n",
    "context = \"You are a model that translates / converts data tables into JSON / SQL format into readable text. The text should consist of complete and valid sentences.\"\n",
    "\n",
    "\n",
    "QA_input = {\n",
    "    'question': data_str,\n",
    "    'context': context\n",
    "}\n",
    "\n",
    "res = pipe(QA_input)\n",
    "print(res)"
   ]
  },
  {
   "cell_type": "code",
   "execution_count": 7,
   "metadata": {},
   "outputs": [
    {
     "name": "stdout",
     "output_type": "stream",
     "text": [
      "{'score': 0.6126879453659058, 'start': 77, 'end': 133, 'answer': 'The story should consist of complete and valid sentences'}\n"
     ]
    }
   ],
   "source": [
    "\n",
    "\n",
    "context = \"You are a story telling model that write a long story with a lot of details. The story should consist of complete and valid sentences. The USER choose what the story \"\n",
    "\n",
    "question = \"Tell me a story about a Turtle and a Rabbit\"\n",
    "\n",
    "QA_input = {\n",
    "    'question': question,\n",
    "    'context': context\n",
    "}\n",
    "\n",
    "res = pipe(QA_input)\n",
    "print(res)"
   ]
  },
  {
   "cell_type": "code",
   "execution_count": 8,
   "metadata": {},
   "outputs": [
    {
     "name": "stdout",
     "output_type": "stream",
     "text": [
      "{'score': 0.6623826026916504, 'start': 202, 'end': 231, 'answer': 'Amazonia or the Amazon Jungle'}\n"
     ]
    }
   ],
   "source": [
    "\n",
    "\n",
    "context = \"\"\"\n",
    "The Amazon rainforest (Portuguese: Floresta Amazônica or Amazônia; Spanish: Selva Amazónica, Amazonía or usually Amazonia; French: Forêt amazonienne; Dutch: Amazoneregenwoud), also known in English as Amazonia or the Amazon Jungle, is a moist broadleaf forest that covers most of the Amazon basin of South America. This basin encompasses 7,000,000 square kilometres (2,700,000 sq mi), of which 5,500,000 square kilometres (2,100,000 sq mi) are covered by the rainforest. This region includes territory belonging to nine nations. The majority of the forest is contained within Brazil, with 60% of the rainforest, followed by Peru with 13%, Colombia with 10%, and with minor amounts in Venezuela, Ecuador, Bolivia, Guyana, Suriname and French Guiana. States or departments in four nations contain \"Amazonas\" in their names. The Amazon represents over half of the planet's remaining rainforests, and comprises the largest and most biodiverse tract of tropical rainforest in the world, with an estimated 390 billion individual trees divided into 16,000 species.\n",
    "\n",
    "\"\"\"\n",
    "\n",
    "question = \"\"\"Which name is also used to describe the Amazon rainforest in English?\n",
    "\"\"\"\n",
    "\n",
    "QA_input = {\n",
    "    'question': question,\n",
    "    'context': context\n",
    "}\n",
    "\n",
    "res = pipe(QA_input)\n",
    "print(res)"
   ]
  },
  {
   "cell_type": "markdown",
   "metadata": {},
   "source": [
    "The Amazon rainforest (Portuguese: Floresta Amazônica or Amazônia; Spanish: Selva Amazónica, Amazonía or usually Amazonia; French: Forêt amazonienne; Dutch: Amazoneregenwoud), also known in English as Amazonia or the Amazon Jungle, is a moist broadleaf forest that covers most of the Amazon basin of South America. This basin encompasses 7,000,000 square kilometres (2,700,000 sq mi), of which 5,500,000 square kilometres (2,100,000 sq mi) are covered by the rainforest. This region includes territory belonging to nine nations. The majority of the forest is contained within Brazil, with 60% of the rainforest, followed by Peru with 13%, Colombia with 10%, and with minor amounts in Venezuela, Ecuador, Bolivia, Guyana, Suriname and French Guiana. States or departments in four nations contain \"Amazonas\" in their names. The Amazon represents over half of the planet's remaining rainforests, and comprises the largest and most biodiverse tract of tropical rainforest in the world, with an estimated 390 billion individual trees divided into 16,000 species."
   ]
  },
  {
   "cell_type": "markdown",
   "metadata": {},
   "source": [
    "Amazonia or the Amazon Jungle"
   ]
  },
  {
   "cell_type": "markdown",
   "metadata": {},
   "source": []
  },
  {
   "cell_type": "code",
   "execution_count": 9,
   "metadata": {},
   "outputs": [
    {
     "name": "stdout",
     "output_type": "stream",
     "text": [
      "{'score': 0.9971151947975159, 'start': 1, 'end': 5, 'answer': 'Stig'}\n"
     ]
    }
   ],
   "source": [
    "context = \"\"\"\n",
    "Stig is the boss at Aboveit. He is a very capable boss, and sometimes he laughs at jokes. Pål also works at Aboveit. He is a very capable worker, and sometimes he also laughs at jokes.\n",
    "\"\"\"\n",
    "question = \"Hello, who is the boss at Aboveit?\"\n",
    "\n",
    "\n",
    "QA_input = {\n",
    "    'question': question,\n",
    "    'context': context\n",
    "}\n",
    "\n",
    "res = pipe(QA_input)\n",
    "print(res)\n",
    "\n"
   ]
  },
  {
   "cell_type": "code",
   "execution_count": 20,
   "metadata": {},
   "outputs": [
    {
     "name": "stdout",
     "output_type": "stream",
     "text": [
      "{'score': 4.869443070987245e-09, 'start': 1, 'end': 5, 'answer': 'Stig'}\n"
     ]
    }
   ],
   "source": [
    "context = \"\"\"\n",
    "Stig is the boss at Aboveit. He is a very capable boss, and sometimes he laughs at jokes. Pål also works at Aboveit. He is a very capable worker, and sometimes he also laughs at jokes.\n",
    "\"\"\"\n",
    "question = \"Hello, who is not the boss at Aboveit?\"\n",
    "\n",
    "\n",
    "QA_input = {\n",
    "    'question': question,\n",
    "    'context': context\n",
    "}\n",
    "\n",
    "res = pipe(QA_input)\n",
    "print(res)\n"
   ]
  },
  {
   "cell_type": "code",
   "execution_count": 10,
   "metadata": {},
   "outputs": [
    {
     "name": "stdout",
     "output_type": "stream",
     "text": [
      "{'score': 0.9929918050765991, 'start': 59, 'end': 63, 'answer': 'Stig'}\n"
     ]
    }
   ],
   "source": [
    "context = \"\"\"\n",
    "Stig is the boss at Aboveit. He is a very capable boss, and sometimes he laughs at jokes. Pål also works at Aboveit. He is a very capable worker, and sometimes he also laughs at jokes.\n",
    "\"\"\"\n",
    "question = \"Hello, who is the boss at Aboveit?\"\n",
    "\n",
    "system_prompt = \"Be nice to the [USER], and give your answer in a sentence.\"\n",
    "\n",
    "QA_input = {\n",
    "    'question': question,\n",
    "    'context': system_prompt + context\n",
    "}\n",
    "\n",
    "res = pipe(QA_input)\n",
    "print(res)\n",
    "\n"
   ]
  },
  {
   "cell_type": "code",
   "execution_count": 12,
   "metadata": {},
   "outputs": [
    {
     "name": "stdout",
     "output_type": "stream",
     "text": [
      "{'score': 0.0722779780626297, 'start': 25, 'end': 53, 'answer': 'Han er en veldig dyktig sjef'}\n"
     ]
    }
   ],
   "source": [
    "context = \"\"\"\n",
    "Stig er sjef i Aboveit. Han er en veldig dyktig sjef, og av og til ler han av vitser.\n",
    "\"\"\"\n",
    "question = \"Hei, hvem er sjefen i Aboveit?\"\n",
    "\n",
    "QA_input = {\n",
    "    'question': question,\n",
    "    'context': context\n",
    "}\n",
    "\n",
    "res = pipe(QA_input)\n",
    "print(res)"
   ]
  },
  {
   "cell_type": "markdown",
   "metadata": {},
   "source": [
    "Sliter på engelsk"
   ]
  },
  {
   "cell_type": "markdown",
   "metadata": {},
   "source": []
  }
 ],
 "metadata": {
  "kernelspec": {
   "display_name": "Python 3",
   "language": "python",
   "name": "python3"
  },
  "language_info": {
   "codemirror_mode": {
    "name": "ipython",
    "version": 3
   },
   "file_extension": ".py",
   "mimetype": "text/x-python",
   "name": "python",
   "nbconvert_exporter": "python",
   "pygments_lexer": "ipython3",
   "version": "3.11.6"
  },
  "orig_nbformat": 4
 },
 "nbformat": 4,
 "nbformat_minor": 2
}
