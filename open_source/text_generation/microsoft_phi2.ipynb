{
 "cells": [
  {
   "cell_type": "markdown",
   "metadata": {},
   "source": [
    "# Kjøre modellen lokalt\n",
    "### Laste inn modellen fra Hugging Face"
   ]
  },
  {
   "cell_type": "code",
   "execution_count": 16,
   "metadata": {},
   "outputs": [
    {
     "name": "stderr",
     "output_type": "stream",
     "text": [
      "Loading checkpoint shards: 100%|██████████| 2/2 [00:09<00:00,  4.74s/it]\n"
     ]
    }
   ],
   "source": [
    "# Load model directly\n",
    "from transformers import AutoModelForCausalLM, pipeline\n",
    "\n",
    "model = AutoModelForCausalLM.from_pretrained(\"microsoft/phi-2\",  trust_remote_code=True)\n"
   ]
  },
  {
   "cell_type": "code",
   "execution_count": 17,
   "metadata": {},
   "outputs": [
    {
     "name": "stderr",
     "output_type": "stream",
     "text": [
      "Special tokens have been added in the vocabulary, make sure the associated word embeddings are fine-tuned or trained.\n"
     ]
    }
   ],
   "source": [
    "from transformers import AutoTokenizer\n",
    "tokenizer = AutoTokenizer.from_pretrained(\"microsoft/phi-2\", trust_remote_code=True)\n"
   ]
  },
  {
   "cell_type": "code",
   "execution_count": 18,
   "metadata": {},
   "outputs": [],
   "source": [
    "# Use a pipeline as a high-level helper\n",
    "from transformers import pipeline\n",
    "\n",
    "pipe = pipeline(\"text-generation\", model=model, tokenizer=tokenizer)"
   ]
  },
  {
   "cell_type": "code",
   "execution_count": 40,
   "metadata": {},
   "outputs": [
    {
     "name": "stdout",
     "output_type": "stream",
     "text": [
      "[{'generated_text': \"A skier slides down a frictionless slope of height 40m and length 80m. What's the skier's speed at the bottom?\\n\\nSolution:\\nThe skier's speed at the bottom is the same as the speed of a freely falling object with a height of 40m. Using the formula v^2 = u^2 + 2gh, where u is the initial velocity (which is 0), g is the acceleration due to gravity (9.8 m/s^2), and h is the height (40m), we get v = sqrt(2gh) = sqrt(2*9.8*40) = 19.8 m/s.\\n\\nFollow-up Exercise 1:\\nWhat if the slope is not frictionless? How would the answer change?\\n\\nSolution:\\nIf the slope is not frictionless, then the skier will experience a frictional force that will slow them down. The amount of frictional force depends on the coefficient of friction between the skis and the slope, as well as the normal force exerted by the slope on the skis. The normal force is equal to the weight of the skier, which is mg, where m is the mass of the skier and g is the acceleration due to gravity. The frictional force is given by f = uN, where u is the coefficient of friction and N is the normal force. The net force on the skier is then F = ma = mg - uN. Using Newton's second law, we can write v^2 = u^2 + 2gh - 2uN/m, where m is the mass of the skier. Solving for v, we get v = sqrt(u^2 + 2gh - 2uN/m).\\n\\nFollow-up Exercise 2:\\nWhat if the skier is wearing a helmet that reduces the air resistance? How would the answer change?\\n\\nSolution:\\nIf the skier is wearing a helmet that reduces the air resistance, then the frictional force will be less, and the skier will go faster. The amount of reduction in air resistance depends on the shape and size of the helmet, as well as the speed of the skier. The net force on the skier is then F = ma = mg - uN - kv^2/2, where k is a constant that depends on the shape and size of the helmet. Solving for v, we get v = sqrt(u^2 + 2gh - 2uN/m - k\"}]\n"
     ]
    }
   ],
   "source": [
    "input_to_model = \"A skier slides down a frictionless slope of height 40m and length 80m. What's the skier's speed at the bottom?\"\n",
    "res = pipe(input_to_model, max_new_tokens=500)\n",
    "print(res[0]['generated_text'])"
   ]
  },
  {
   "cell_type": "markdown",
   "metadata": {},
   "source": [
    "#### max_new_tokens=50  -  43s\n",
    "\n",
    "A skier slides down a frictionless slope of height 40m and length 80m. What's the skier's speed at the bottom?\n",
    "\n",
    "Solution:\n",
    "The skier's speed at the bottom is the same as the speed of a freely falling object with a height of 40m. Using the formula v^2 = u^2 + 2gh, where u is the initial"
   ]
  },
  {
   "cell_type": "markdown",
   "metadata": {},
   "source": [
    "#### max_new_tokens=100  -  1m 3s\n",
    "\n",
    "A skier slides down a frictionless slope of height 40m and length 80m. What's the skier's speed at the bottom?\n",
    "\n",
    "Solution:\n",
    "The skier's speed at the bottom is the same as the speed of a freely falling object with a height of 40m. Using the formula v^2 = u^2 + 2gh, where u is the initial velocity (which is 0), g is the acceleration due to gravity (9.8 m/s^2), and h is the height (40m), we get v = sqrt(2gh) = sqrt(2*9."
   ]
  },
  {
   "cell_type": "markdown",
   "metadata": {},
   "source": [
    "### max_new_tokens=150  -  1m 25s\n",
    "\n",
    "A skier slides down a frictionless slope of height 40m and length 80m. What's the skier's speed at the bottom?\n",
    "\n",
    "Solution:\n",
    "The skier's speed at the bottom is the same as the speed of a freely falling object with a height of 40m. Using the formula v^2 = u^2 + 2gh, where u is the initial velocity (which is 0), g is the acceleration due to gravity (9.8 m/s^2), and h is the height (40m), we get v = sqrt(2gh) = sqrt(2*9.8*40) = 19.8 m/s.\n",
    "\n",
    "Follow-up Exercise 1:\n",
    "What if the slope is not frictionless? How would the answer change?\n",
    "\n",
    "Solution:\n",
    "If the slope is not frictionless, then"
   ]
  },
  {
   "cell_type": "markdown",
   "metadata": {},
   "source": [
    "### max_new_tokens=500  -  4m 2s\n",
    "\n",
    "A skier slides down a frictionless slope of height 40m and length 80m. What's the skier's speed at the bottom?\n",
    "\n",
    "Solution:\n",
    "The skier's speed at the bottom is the same as the speed of a freely falling object with a height of 40m. Using the formula v^2 = u^2 + 2gh, where u is the initial velocity (which is 0), g is the acceleration due to gravity (9.8 m/s^2), and h is the height (40m), we get v = sqrt(2gh) = sqrt(2*9.8*40) = 19.8 m/s.\n",
    "\n",
    "Follow-up Exercise 1:\n",
    "What if the slope is not frictionless? How would the answer change?\n",
    "\n",
    "Solution:\n",
    "If the slope is not frictionless, then the skier will experience a frictional force that will slow them down. The amount of frictional force depends on the coefficient of friction between the skis and the slope, as well as the normal force exerted by the slope on the skis. The normal force is equal to the weight of the skier, which is mg, where m is the mass of the skier and g is the acceleration due to gravity. The frictional force is given by f = uN, where u is the coefficient of friction and N is the normal force. The net force on the skier is then F = ma = mg - uN. Using Newton's second law, we can write v^2 = u^2 + 2gh - 2uN/m, where m is the mass of the skier. Solving for v, we get v = sqrt(u^2 + 2gh - 2uN/m).\n",
    "\n",
    "Follow-up Exercise 2:\n",
    "What if the skier is wearing a helmet that reduces the air resistance? How would the answer change?\n",
    "\n",
    "Solution:\n",
    "If the skier is wearing a helmet that reduces the air resistance, then the frictional force will be less, and the skier will go faster. The amount of reduction in air resistance depends on the shape and size of the helmet, as well as the speed of the skier. The net force on the skier is then F = ma = mg - uN - kv^2/2, where k is a constant that depends on the shape and size of the helmet. Solving for v, we get v = sqrt(u^2 + 2gh - 2uN/m - k"
   ]
  },
  {
   "cell_type": "markdown",
   "metadata": {},
   "source": []
  },
  {
   "cell_type": "markdown",
   "metadata": {},
   "source": [
    "### Norsk fungerer svært dårlig"
   ]
  },
  {
   "cell_type": "code",
   "execution_count": 42,
   "metadata": {},
   "outputs": [
    {
     "name": "stdout",
     "output_type": "stream",
     "text": [
      "Simen har to bonsai trær som er av type ficus. Han har også en orkide som heter Ola. Hvor mange trær har Simen?\n",
      "\n",
      "Simen: Han har en trær som er en ficus. Han har en orkide som er en ficus. Han har en trær som er en ficus.\n",
      "\n",
      "Lena: Han har en trær som er en ficus. Han har en orkide som er en ficus. Han har en trær som er en ficus.\n",
      "\n",
      "Simen: Han har en trær som er en ficus. Han har en orkide som er en ficus. Han har en trær som er en ficus.\n",
      "\n",
      "Lena: Han har en trær som er en ficus. Han har en orkide som er en ficus. Han har en trær som er en ficus.\n",
      "\n",
      "Simen: Han har en trær som er en ficus. Han har en orkide som er en ficus. Han har en trær som\n"
     ]
    }
   ],
   "source": [
    "input_to_model = \"Simen har to bonsai trær som er av type ficus. Han har også en orkide som heter Ola. Hvor mange trær har Simen?\"\n",
    "res = pipe(input_to_model, max_new_tokens=200)\n",
    "print(res[0]['generated_text'])"
   ]
  },
  {
   "cell_type": "markdown",
   "metadata": {},
   "source": [
    "### max_new_tokens=2000  -  1m 28s\n",
    "\n",
    "Simen har to bonsai trær som er av type ficus. Han har også en orkide som heter Ola. Hvor mange trær har Simen?\n",
    "\n",
    "Simen: Han har en trær som er en ficus. Han har en orkide som er en ficus. Han har en trær som er en ficus.\n",
    "\n",
    "Lena: Han har en trær som er en ficus. Han har en orkide som er en ficus. Han har en trær som er en ficus.\n",
    "\n",
    "Simen: Han har en trær som er en ficus. Han har en orkide som er en ficus. Han har en trær som er en ficus.\n",
    "\n",
    "Lena: Han har en trær som er en ficus. Han har en orkide som er en ficus. Han har en trær som er en ficus.\n",
    "\n",
    "Simen: Han har en trær som er en ficus. Han har en orkide som er en ficus. Han har en trær som"
   ]
  },
  {
   "cell_type": "code",
   "execution_count": 43,
   "metadata": {},
   "outputs": [
    {
     "name": "stdout",
     "output_type": "stream",
     "text": [
      "Simen has two bonsai trees of the ficus type. He also has an orchid named Ola. How many trees does Simen have?\n",
      "\n",
      "Solution:\n",
      "To find the total number of trees Simen has, we need to add the number of bonsai trees and the number of orchids.\n",
      "\n",
      "Given:\n",
      "Number of bonsai trees = 2\n",
      "Number of orchids = 1\n",
      "\n",
      "To find the total number of trees, we add the number of bonsai trees and the number of orchids:\n",
      "Total number of trees = Number of bonsai trees + Number of orchids\n",
      "Total number of trees = 2 + 1\n",
      "Total number of trees = 3\n",
      "\n",
      "Therefore, Simen has a total of 3 trees.\n",
      "\n",
      "\n",
      "\n",
      "Question 1: \n",
      "\n",
      "A store sells apples for $0.50 each and oranges for $0.75 each. If John buys 4 apples and 3 oranges, how much does he spend in total?\n",
      "\n",
      "Solution:\n",
      "\n",
      "To find the total amount John spends, we need to calculate the cost of the apples and\n"
     ]
    }
   ],
   "source": [
    "input_to_model = \"Simen has two bonsai trees of the ficus type. He also has an orchid named Ola. How many trees does Simen have?\"\n",
    "res = pipe(input_to_model, max_new_tokens=200)\n",
    "print(res[0]['generated_text'])"
   ]
  },
  {
   "cell_type": "markdown",
   "metadata": {},
   "source": [
    "### max_new_tokens=2000  -  1m 25s\n",
    "\n",
    "Simen has two bonsai trees of the ficus type. He also has an orchid named Ola. How many trees does Simen have?\n",
    "\n",
    "Solution:\n",
    "To find the total number of trees Simen has, we need to add the number of bonsai trees and the number of orchids.\n",
    "\n",
    "Given:\n",
    "Number of bonsai trees = 2\n",
    "Number of orchids = 1\n",
    "\n",
    "To find the total number of trees, we add the number of bonsai trees and the number of orchids:\n",
    "Total number of trees = Number of bonsai trees + Number of orchids\n",
    "Total number of trees = 2 + 1\n",
    "Total number of trees = 3\n",
    "\n",
    "Therefore, Simen has a total of 3 trees.\n",
    "\n",
    "\n",
    "\n",
    "Question 1: \n",
    "\n",
    "A store sells apples for $0.50 each and oranges for $0.75 each. If John buys 4 apples and 3 oranges, how much does he spend in total?\n",
    "\n",
    "Solution:\n",
    "\n",
    "To find the total amount John spends, we need to calculate the cost of the apples and"
   ]
  },
  {
   "cell_type": "markdown",
   "metadata": {},
   "source": []
  },
  {
   "cell_type": "markdown",
   "metadata": {},
   "source": []
  }
 ],
 "metadata": {
  "kernelspec": {
   "display_name": "Python 3",
   "language": "python",
   "name": "python3"
  },
  "language_info": {
   "codemirror_mode": {
    "name": "ipython",
    "version": 3
   },
   "file_extension": ".py",
   "mimetype": "text/x-python",
   "name": "python",
   "nbconvert_exporter": "python",
   "pygments_lexer": "ipython3",
   "version": "3.11.6"
  },
  "orig_nbformat": 4
 },
 "nbformat": 4,
 "nbformat_minor": 2
}
