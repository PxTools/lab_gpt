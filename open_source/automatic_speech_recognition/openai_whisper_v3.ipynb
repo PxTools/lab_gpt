{
 "cells": [
  {
   "cell_type": "markdown",
   "metadata": {},
   "source": [
    "# Kjøre modellen lokalt\n",
    "### Laste inn modellen fra Hugging Face"
   ]
  },
  {
   "cell_type": "markdown",
   "metadata": {},
   "source": [
    "Whisper predicts the language of the source audio automatically. If the source audio language is known a-priori, it can be passed as an argument to the pipeline:"
   ]
  },
  {
   "cell_type": "code",
   "execution_count": 2,
   "metadata": {},
   "outputs": [
    {
     "name": "stderr",
     "output_type": "stream",
     "text": [
      "/opt/homebrew/lib/python3.11/site-packages/tqdm/auto.py:21: TqdmWarning: IProgress not found. Please update jupyter and ipywidgets. See https://ipywidgets.readthedocs.io/en/stable/user_install.html\n",
      "  from .autonotebook import tqdm as notebook_tqdm\n",
      "Special tokens have been added in the vocabulary, make sure the associated word embeddings are fine-tuned or trained.\n"
     ]
    }
   ],
   "source": [
    "import torch\n",
    "from transformers import AutoModelForSpeechSeq2Seq, AutoProcessor, pipeline\n",
    "from datasets import load_dataset\n",
    "\n",
    "\n",
    "device = \"cuda:0\" if torch.cuda.is_available() else \"cpu\"\n",
    "torch_dtype = torch.float16 if torch.cuda.is_available() else torch.float32\n",
    "\n",
    "model_id = \"openai/whisper-large-v3\"\n",
    "\n",
    "model = AutoModelForSpeechSeq2Seq.from_pretrained(\n",
    "    model_id, torch_dtype=torch_dtype, low_cpu_mem_usage=True, use_safetensors=True\n",
    ")\n",
    "model.to(device)\n",
    "\n",
    "processor = AutoProcessor.from_pretrained(model_id)\n",
    "\n",
    "pipe = pipeline(\n",
    "    \"automatic-speech-recognition\",\n",
    "    model=model,\n",
    "    tokenizer=processor.tokenizer,\n",
    "    feature_extractor=processor.feature_extractor,\n",
    "    max_new_tokens=128,\n",
    "    chunk_length_s=30,\n",
    "    batch_size=16,\n",
    "    return_timestamps=True,\n",
    "    torch_dtype=torch_dtype,\n",
    "    device=device,\n",
    ")\n",
    "\n"
   ]
  },
  {
   "cell_type": "code",
   "execution_count": 13,
   "metadata": {},
   "outputs": [
    {
     "name": "stdout",
     "output_type": "stream",
     "text": [
      " Glory, glory, Man United! Glory, glory, Man United! As the Reds go marching, oh, oh, oh! Just like the buzz we've heard today's done by, we'll keep the red flags flying high. You're gonna see us go from far and wide You're gonna hear them as they sing with pride United, Man United We're the boys in red and we're on our way to Wembley, Wembley We're the famous man united and we're going to Wembley Wembley, Wembley We're the famous man united and we're going to Wembley In 77 it was Doherty Hackinson will make it 83 And everyone will know just who we are They'll be singing K-Sara-Sara United Man United We're the boys in red And we're on our way to Wembley Wembley, Wembley We're the famous band united and we're going to Wembley Wembley, Wembley We're the famous band united and we're going to win for me Glory, glory, Grand United Glory, glory, Grand United Glory, glory, Grand United As the Reds go marching on, on, on Glory, glory, Grand United on, on, Man United! Glory, glory, Man United! As the Reds go marching on, on, on!\n"
     ]
    }
   ],
   "source": [
    "# Sample from the dataset, works\n",
    "dataset = load_dataset(\"distil-whisper/librispeech_long\", \"clean\", split=\"validation\")\n",
    "sample = dataset[0][\"audio\"]\n",
    "\n",
    "# result = pipe(\"songs/Glory_Glory_Man_United.mp3\")\n",
    "result = pipe(\"sound/Glory_Glory_Man_United.mp3\", generate_kwargs={\"language\": \"english\"})\n",
    "# result = pipe(sample, generate_kwargs={\"language\": \"english\"})\n",
    "# result = pipe(sample, generate_kwargs={\"task\": \"translate\"})\n",
    "\n",
    "print(result[\"text\"])\n"
   ]
  },
  {
   "cell_type": "markdown",
   "metadata": {},
   "source": [
    "Glory, glory, Man United! Glory, glory, Man United! As the Reds go marching, oh, oh, oh! Just like the buzz we've heard today's done by, we'll keep the red flags flying high. You're gonna see us go from far and wide You're gonna hear them as they sing with pride United, Man United We're the boys in red and we're on our way to Wembley, Wembley We're the famous man united and we're going to Wembley Wembley, Wembley We're the famous man united and we're going to Wembley In 77 it was Doherty Hackinson will make it 83 And everyone will know just who we are They'll be singing K-Sara-Sara United Man United We're the boys in red And we're on our way to Wembley Wembley, Wembley We're the famous band united and we're going to Wembley Wembley, Wembley We're the famous band united and we're going to win for me Glory, glory, Grand United Glory, glory, Grand United Glory, glory, Grand United As the Reds go marching on, on, on Glory, glory, Grand United on, on, Man United! Glory, glory, Man United! As the Reds go marching on, on, on!"
   ]
  },
  {
   "cell_type": "markdown",
   "metadata": {},
   "source": [
    "Sliter med en norsk klassiker der ordene ikke høres så tydelig. "
   ]
  },
  {
   "cell_type": "code",
   "execution_count": 10,
   "metadata": {},
   "outputs": [
    {
     "name": "stderr",
     "output_type": "stream",
     "text": [
      "Whisper did not predict an ending timestamp, which can happen if audio is cut off in the middle of a word. Also make sure WhisperTimeStampLogitsProcessor was used during generation.\n"
     ]
    },
    {
     "name": "stdout",
     "output_type": "stream",
     "text": [
      " Nørvide, Fremtrikant og Sprit og Kruppensland For fagene de alle har så kjær Vår takke er til Måneberg, Tildensland At vi vel sliter på våre stille bær Fredrikstad, Gudde, våre veier går igjen, og kan ikke seie på vårt land. Må det være der, og kjempe fremme, ut på byen eller hjemmeby. Og så, for gruppe og by, for land i strid, vi kjemper frem til seier på by. Takk for at du så på! Vi venter alltid til gruppens eier, venter hjem i dag. Når blir det en fremdelen katt og strid på gruppens navn? Hva tar vi med? Vi alle har så kjær. Hvor tok en erken av deg vær en kuldenskall. Ha tid og fri på våre sildre vær. Rødde seg gutter våre veier går igjen og kan ikke seie på vårt land. Målet vårt er å knutte frem med unge på byen eller hjemme. Målet vårt er å knytte frem med unge på byen eller hjemmeby. Vi går opp i start, får kutt på byen, får laget fri. Vi kjemper frem til seier på ny. Hvor god det er å bli, jeg knytter nok. Her til topp! Nå er det tilkomm Fredrikstad gutter byen venter Landet en gubbel seier og henter hjem i dag Fredrikstad gutter våre veier går igjen Når kampen seier for vårt lag Målet vårt er å flytte frem med rump og by Og melde hjem med by og til slag For klubb og by, for lagets fri Vi kjemper frem Til seier på ny Hvor på det er Å breie drømme Blant Helt til tatt Fredrik av Gyttebyen Ventelag For drømmeseire Henter hjem i dag.\n"
     ]
    }
   ],
   "source": [
    "result = pipe(\"sound/Fredrikstadgutter_våre_veier.mp3\", generate_kwargs={\"language\": \"norwegian\"})\n",
    "# result = pipe(sample, generate_kwargs={\"language\": \"english\"})\n",
    "# result = pipe(sample, generate_kwargs={\"task\": \"translate\"})\n",
    "\n",
    "print(result[\"text\"])\n",
    "\n",
    "\n"
   ]
  },
  {
   "cell_type": "markdown",
   "metadata": {},
   "source": [
    "### Klarer kongens tale meget bra"
   ]
  },
  {
   "cell_type": "code",
   "execution_count": 4,
   "metadata": {},
   "outputs": [
    {
     "name": "stdout",
     "output_type": "stream",
     "text": [
      " Nordmenn er nordlendinger, trøndere, sørlendinger og folk fra alle andre regioner. Nordmenn er også innvandret fra Afghanistan, Pakistan og Polen, Sverige, Somalia og Syria. Det er ikke alltid så lett å si hvor vi er fra, hvilken nasjonalitet vi tilhører. Det vi kaller hjem er der hjertet vårt er, og det kan ikke alltid plasseres innenfor landegrenser. Nordmenn er jenter som er glad i jenter, gutter som er glad i gutter, og jenter og gutter som er glad i hverandre. Nordmenn tror på Gud, Allah, altet og ingenting. Nordmenn liker Grieg, Hugo, Helbilis og Kari Bremnes. Med andre ord, Norge er dere. Norge er oss. Mitt største håp for Norge er at vi skal klare å ta vare på hverandre. At vi skal bygge dette landet videre på tillid, fellesskap og raushet.\n"
     ]
    }
   ],
   "source": [
    "result = pipe(\"sound/Norwegian_King's_speech.mp3\", generate_kwargs={\"language\": \"norwegian\"})\n",
    "# result = pipe(sample, generate_kwargs={\"language\": \"english\"})\n",
    "# result = pipe(sample, generate_kwargs={\"task\": \"translate\"})\n",
    "\n",
    "print(result[\"text\"])\n",
    "\n",
    "\n"
   ]
  },
  {
   "cell_type": "code",
   "execution_count": 9,
   "metadata": {},
   "outputs": [
    {
     "name": "stdout",
     "output_type": "stream",
     "text": [
      " The Norwegians are northerners, trundlers, southerners and people from all other regions. The Norwegians are also immigrants from Afghanistan, Pakistan, Poland, Sweden, Somalia and Syria. The The Norwegians are girls who are fond of girls, boys who are fond of boys, and girls and boys who are fond of each other. The Norwegians believe in God, Allah, everything and nothing. The Norwegians like Grieg, Hugo, Helbylis and Kari Bremnes. In other words, Norway is you. Norway is us. My biggest hope for Norway is that we will be able to take care of each other. That we will continue to build this country on trust, community and generosity.\n"
     ]
    }
   ],
   "source": [
    "# result = pipe(\"songs/Norwegian_King's_speech.mp3\",  generate_kwargs={\"task\": \"translate\"})\n",
    "# result = pipe(\"songs/Norwegian_King's_speech.mp3\",  generate_kwargs={\"language\": \"english\"})\n",
    "result = pipe(\"sound/Norwegian_King's_speech.mp3\",  generate_kwargs={\"language\": \"english\", \"task\": \"translate\"}, return_timestamps=True)\n",
    "\n",
    "\n",
    "# result = pipe(sample, generate_kwargs={\"language\": \"english\"})\n",
    "# result = pipe(sample, generate_kwargs={\"task\": \"translate\"})\n",
    "# generate_kwargs={\"language\": \"english\"},\n",
    "\n",
    "print(result[\"text\"])\n",
    "\n",
    "# return_timestamps=True)\n"
   ]
  },
  {
   "cell_type": "code",
   "execution_count": 10,
   "metadata": {},
   "outputs": [
    {
     "name": "stdout",
     "output_type": "stream",
     "text": [
      "{'text': ' The Norwegians are northerners, trundlers, southerners and people from all other regions. The Norwegians are also immigrants from Afghanistan, Pakistan, Poland, Sweden, Somalia and Syria. The The Norwegians are girls who are fond of girls, boys who are fond of boys, and girls and boys who are fond of each other. The Norwegians believe in God, Allah, everything and nothing. The Norwegians like Grieg, Hugo, Helbylis and Kari Bremnes. In other words, Norway is you. Norway is us. My biggest hope for Norway is that we will be able to take care of each other. That we will continue to build this country on trust, community and generosity.', 'chunks': [{'timestamp': (0.0, 8.0), 'text': ' The Norwegians are northerners, trundlers, southerners and people from all other regions.'}, {'timestamp': (8.0, 17.0), 'text': ' The Norwegians are also immigrants from Afghanistan, Pakistan, Poland, Sweden, Somalia and Syria.'}, {'timestamp': (49.0, 55.0), 'text': ' The The Norwegians are girls who are fond of girls, boys who are fond of boys, and girls and boys who are fond of each other. The Norwegians believe in God, Allah, everything and nothing.'}, {'timestamp': (55.0, 62.0), 'text': ' The Norwegians like Grieg, Hugo, Helbylis and Kari Bremnes.'}, {'timestamp': (62.0, 67.0), 'text': ' In other words, Norway is you.'}, {'timestamp': (67.0, 69.0), 'text': ' Norway is us.'}, {'timestamp': (71.0, 77.0), 'text': ' My biggest hope for Norway is that we will be able to take care of each other.'}, {'timestamp': (78.0, 84.0), 'text': ' That we will continue to build this country on trust, community and generosity.'}]}\n"
     ]
    }
   ],
   "source": [
    "print(result)"
   ]
  },
  {
   "cell_type": "markdown",
   "metadata": {},
   "source": [
    "From YT: Norwegians come from the north of Norway, from the middle, -\n",
    "0:04\n",
    "- from the south and all the other regions.\n",
    "0:09\n",
    "Norwegians are also immigrants from Afghanistan, Pakistan, Poland, -\n",
    "0:14\n",
    "- Sweden, Somalia and Syria.\n",
    "0:25\n",
    "It is not always easy to say where we come from.\n",
    "0:28\n",
    "To which nationality we belong.\n",
    "0:32\n",
    "Home is where the heart is.\n",
    "0:36\n",
    "That cannot always be placed within country borders.\n",
    "0:42\n",
    "Norwegians are girls who love girls.\n",
    "0:44\n",
    "Boys who love boys.\n",
    "0:47\n",
    "And boys and girls who love each other.\n",
    "0:51\n",
    "Norwegians believe in God, Allah, everything and nothing.\n",
    "0:57\n",
    "Norwegians like Grieg, Kygo, Hellbillies (Norwegian country rock band) –\n",
    "1:01\n",
    "- and Kari Bremnes (Norwegian singer).\n",
    "1:04\n",
    "In other words: You are Norway.\n",
    "1:07\n",
    "We are Norway.\n",
    "1:11\n",
    "My biggest hope for Norway is that we will manage to take care of each other.\n",
    "1:18\n",
    "That we can build this country further on trust, sodality and generosity."
   ]
  },
  {
   "cell_type": "markdown",
   "metadata": {},
   "source": [
    "Teset om vi kan få talen på nyorsk"
   ]
  },
  {
   "cell_type": "code",
   "execution_count": 12,
   "metadata": {},
   "outputs": [
    {
     "name": "stdout",
     "output_type": "stream",
     "text": [
      " Nordmenn er nordlendinger, trøndere, sørlendinger og folk fra alle andre regioner. Nordmenn er også innvandret fra Afghanistan, Pakistan og Polen, Sverige, Somalia og Syria. Det er ikkje alltid så lett å si hvor vi er ifra, hvilken nasjonalitet vi tilhører. Det vi kallar hjem er der hjertet vårt er, og det kan ikkje alltid plasseres innenfor landegrenser. Nordmenn er jenter som er glad i jenter, gutter som er glad i gutter, og jenter, gutter som er glad i gutter, og jenter og gutter som er glad i hverandre. Nordmenn tror på Gud, Allah, altet og ingenting. Nordmenn liker Grieg, Hugo, Helbilis og Kari Bremnes. Med andre ord, Norge er dere. Norge er oss. Mitt største håp for Norge er at vi skal klare å ta vare på hverandre. At vi skal bygge dette landet videre på tillit, fellesskap og raushet.\n"
     ]
    }
   ],
   "source": [
    "# result = pipe(\"songs/Norwegian_King's_speech.mp3\",  generate_kwargs={\"language\": \"nynorsk\", \"task\": \"translate\"}, return_timestamps=True)\n",
    "# -> Gir engelsk versjon\n",
    "\n",
    "result = pipe(\"sound/Norwegian_King's_speech.mp3\",  generate_kwargs={\"language\": \"nynorsk\"}, return_timestamps=True)\n",
    "print(result[\"text\"])\n",
    "\n",
    "# return_timestamps=True)\n"
   ]
  },
  {
   "cell_type": "markdown",
   "metadata": {},
   "source": [
    "## Nynorsk: \n",
    "\n",
    " ### Nordmenn er nordlendinger, trøndere, sørlendinger og folk fra alle andre regioner. Nordmenn er også innvandret fra Afghanistan, Pakistan og Polen, Sverige, Somalia og Syria. Det er ikkje alltid så lett å si hvor vi er ifra, hvilken nasjonalitet vi tilhører. Det vi kallar hjem er der hjertet vårt er, og det kan ikkje alltid plasseres innenfor landegrenser. Nordmenn er jenter som er glad i jenter, gutter som er glad i gutter, og jenter, gutter som er glad i gutter, og jenter og gutter som er glad i hverandre. Nordmenn tror på Gud, Allah, altet og ingenting. Nordmenn liker Grieg, Hugo, Helbilis og Kari Bremnes. Med andre ord, Norge er dere. Norge er oss. Mitt største håp for Norge er at vi skal klare å ta vare på hverandre. At vi skal bygge dette landet videre på tillit, fellesskap og raushet."
   ]
  },
  {
   "cell_type": "markdown",
   "metadata": {},
   "source": [
    "## Bokmål\n",
    "\n",
    " ### Nordmenn er nordlendinger, trøndere, sørlendinger og folk fra alle andre regioner. Nordmenn er også innvandret fra Afghanistan, Pakistan og Polen, Sverige, Somalia og Syria. Det er ikke alltid så lett å si hvor vi er fra, hvilken nasjonalitet vi tilhører. Det vi kaller hjem er der hjertet vårt er, og det kan ikke alltid plasseres innenfor landegrenser. Nordmenn er jenter som er glad i jenter, gutter som er glad i gutter, og jenter og gutter som er glad i hverandre. Nordmenn tror på Gud, Allah, altet og ingenting. Nordmenn liker Grieg, Hugo, Helbilis og Kari Bremnes. Med andre ord, Norge er dere. Norge er oss. Mitt største håp for Norge er at vi skal klare å ta vare på hverandre. At vi skal bygge dette landet videre på tillid, fellesskap og raushet."
   ]
  },
  {
   "cell_type": "markdown",
   "metadata": {},
   "source": [
    "# Test med norsk dialekt, satt til nynorsk"
   ]
  },
  {
   "cell_type": "code",
   "execution_count": 14,
   "metadata": {},
   "outputs": [
    {
     "name": "stderr",
     "output_type": "stream",
     "text": [
      "Whisper did not predict an ending timestamp, which can happen if audio is cut off in the middle of a word. Also make sure WhisperTimeStampLogitsProcessor was used during generation.\n"
     ]
    },
    {
     "name": "stdout",
     "output_type": "stream",
     "text": [
      " Hei, eg heiter Åse Vetås, og eg er direktør i Språkrådet. Språkrådet er statens forvaltningsorgan i språkspørsmål, og vi fyller opp språkpolitiske mål og strategier på oppdrag fra Kultur- og Ligestillingsdepartementet. Nå er årsrapporten vår for 2022 klar, og eg vil gjerne gi deg nokon smagebeder av det arbeidet vi gjorde i året som gikk. Det øverordne målet for den norske språkpolitikken er å styrke norsk som fullverdikt språk og sikre språkmangfoldet i Norge. Hovedmålet for arbeidet vårt er å fremme statusen til å bruke norsk språk på alle samfunnsområder. Femme statusen til å bruke norsk språk på alle samfunnsområder. Det har vært styrande for de ressursprioriteringar vi har gjort i 2022, og det ligger også inne i de fire delmålene vi har for arbeidet vårt. Det første delmålet handler om retten innbyggerne i Norge har til å møte og bruke språket sitt, eller språket sine, enten det er nynorsk, bokmål, samiske språk, norsk tegnspråk, kvensk, romani eller romanes. Den nye språkloven begynte å gjelde 1. januar i fjor, og den slår fast hva retter språkbrukerne har, og hva plikter alle med som jobber i det offentlige har. Det handler om klart språk, og om at folk skal formøte språket sitt når de tar i bruk tjenester eller trenger informasjon fra det offentlige. Innsatsen vår i 2022, den dreide seg særlig om nynorsk som det minst brukte av de to norske skriftspråkene. Språkteknologi er et prioritert arbeidsområde for oss i språkrådet. I digitaliseringen av Norge trenger vi gode grunnlagssressurser for utvikling av språkteknologi på nynorsk, bokmål og norske dialekter. Derfor samarbeider vi tett med Språkbanken på Nasjonalbiblioteket om utvikling av denne typen grunnlagsressurser. I 2022 publiserte Språkbanken blant annet dette nytt norsk talestyringskorpus med breie dialekttekning. Det trenger vi i digitaliseringen av Norge. Det andre delmålet for arbeidet vårt handler om språket i samfunnet. Det andre delmålet for arbeidet vårt handler om språket i samfunnet. Norsk skal vere eit fullverdikt språk, og det skal kunne brukast og vere i bruk på alle samfunnsområder. I 2022 jobbte vi særleg med universitets- og høgskolesektoren, og kultur- og mediefeltet retta inn mot barn og ungdom. I begge disse høgstatussektororene for språk får engelsk stadig mer plass. Derfor arbeider vi tett med disse sektorene for å stimulere dem til å ta språkvalg som støtter opp om interessene og rettighetene til innbyggerne. Det trea arbeidsmålet vårt det handler om at språkpolitikken skal fylles opp i alle sektorer. Språkrådet har prioritert å hjelpe offentlige virksomheder med å integrere språkpolitikken godt på egne arbeidsfelt. Og det er særlig helsesektoren og kunnskapssektoren vi har prioritert i 2022. I dette arbeidet har vi søkelys på å hjelpe sektorene til å finne språkpolitiske oppfyllingstiltak som kan gi gode og effektive tjenester, og gode ivaretagelse av innbyggerne sine rettigheter og interesser. Navsk, der Nav har invitert oss til å være med og snakke om korleis språket i deres virksomhet kan bli forståelig og tilpassa kvar enkelt innbygger. Det fjerde arbeidsmålet vårt er å sørge for at vi har god systematikk i arbeidet vårt, slik at vi bidrar til at det blir lett å gjere rett for alle i offentlige forvaltning. Målsetningen er at våre veiledningsressurser skal være så relevante og så nyttige som mulig for alle som har en språkjobb å gjøre. Målet for språkrådet sitt arbeid er at vi skal samordne den innsatsen som det offentlige gjør for å sikre norsk som brukspråk på alle samfunnsområder og for å verne de andre språk Norge har et særligt ansvar for. Et vesentligt hinder i arbeidet vårt er at vi mangler anvendte forskning i norsk språk. Det arbeider vi nå med å få på plass. Næringslivet og frivillige sektorer har ikke lov på lagt språkplikter, men fra språkrådet ser vi at vi må ha god kontakt med disse sektorernene for at vi som nasjon skal nå de språkpolitiske målene våre. Vi håper derfor at vi framover vil ha større kapasitet til å gi mer systematiske veiledning og oppfylling til private og frivillige sektorer. Norsk språk er under press. Norsk språk er under press. Vår hovedoppgave er å finne de tiltak som støtter best opp om det som er vårt fremste felles kulturobjekt, nemlig språket. Då står det berre igjen for meg å seie takk for at du tok deg tid til å se denne videoen. Viss du ønskjer å videre mer om det arbeidet vi gjorde i 2022, så finner du årsrapporten til språkrådet på våre nettsider. God lesning!\n"
     ]
    }
   ],
   "source": [
    "result = pipe(\"sound/Språkrådets_årsrapport.mp3\",  generate_kwargs={\"language\": \"nynorsk\"}, return_timestamps=True)\n",
    "print(result[\"text\"])\n",
    "\n",
    "# return_timestamps=True)\n"
   ]
  },
  {
   "cell_type": "markdown",
   "metadata": {},
   "source": [
    "# Test med norsk dialekt, satt til bokmål"
   ]
  },
  {
   "cell_type": "code",
   "execution_count": 15,
   "metadata": {},
   "outputs": [
    {
     "name": "stdout",
     "output_type": "stream",
     "text": [
      " Hei, jeg heter Åse Vetås og er direktør i Språkrådet. Språkrådet er statens forvaltningsorgan i språkspørsmål, og vi fyller opp språkpolitiske mål og strategier på oppdrag fra Kultur- og Ligestillingsdepartementet. Nå er årsrapporten vår for 2022 klar, og jeg vil gjerne gi deg noen smagebeder av det arbeidet vi gjorde i året som gikk. Det overordnede målet for den norske språkpolitikken er å styrke norsk som fullverdikt språk og sikre språkmangfoldet i Norge. Hovedmålet for arbeidet vårt er å fremme statusen til å bruke norsk språk på alle samfunnsområder. stemmer statusen til å bruke norsk språk på alle samfunnsområder. Det har vært styrende for de ressursprioriteringene vi har gjort i 2022, og det ligger også inne i de fire delmålene som vi har for arbeidet vårt. Det første delmålet handler om retten innbyggerne i Norge har til å møte og bruke språket sitt eller språket sine, til å møte og bruke språket sitt eller språket sine, enten det er nynorsk, bokmål, samiske språk, norsk tegnspråk, kvensk, romani eller romanes. Den nye språkloven begynte å gjelde 1. januar i fjor, og den slår fast hva retter språkbrukerne har, og hva plikter alle med som jobber i det offentlige har. Det handler om klart språk og om at folk skal formøte språket sitt når de tar i bruk tjenester eller trenger informasjon fra det offentlige. Innsatsen vår i 2022 drev seg særlig om nynorsk som det minst brukte av de to norske skriftspråkene. Språkteknologi er et prioritert arbeidsområde for oss i språkrådet. I digitaliseringen av Norge trenger vi gode grunnlagsressurser for utvikling av språkteknologi på nynorsk, bokmål og norske dialekter. Derfor samarbeider vi tett med Språkbanken på Nasjonalbiblioteket om utvikling av denne typen grunnlagsressurser. I 2022 publiserte Språkbanken blant annet et nytt norsk talestyringskorpus med brede dialekttekning. Det trenger vi i digitaliseringen av Norge. Det andre delmålet for arbeidet vårt handler om språket i samfunnet. Det andre delmålet for arbeidet vårt handler om språket i samfunnet. Norsk skal være et fullverdikt språk, og det skal kunne brukes og være i bruk på alle samfunnsområder. I 2022 jobbet vi særlig med universitets- og høgskolesektoren, og kultur- og mediefeltet rettet inn mot barn og ungdom. I begge disse høgstatussektorene for språk får engelsk stadig mer plass. Derfor arbeider vi tett med disse sektorene for å stimulere dem til å ta språkvalg som støtter opp om interessene og rettighetene til innbyggerne. Det tredje arbeidsmålet vårt handler om at språkpolitikken skal fylles opp i alle sektorer. Språkrådet har prioritert å hjelpe offentlige virksomheder med å integrere språkpolitikken godt på egne arbeidsfelt. Og det er særlig helsesektoren og kunnskapssektoren vi har prioritert i 2022. I dette arbeidet har vi søkelys på å hjelpe sektorene til å finne språkpolitiske oppfyllingstiltak som kan gi gode og effektive tjenester, og gode ivaretagelse av innbyggerne sine rettigheter og interesser. Navsk, der NAV har invitert oss til å være med og snakke om hvordan språket i deres virksomhet kan bli forståelig og tilpasset hver enkelt innbygger. Det fjerde arbeidsmålet vårt er å sørge for at vi har god systematikk i arbeidet vårt, sånn at vi bidrar til at det blir lett og gjør rett for alle i offentlige forvaltning. Målsetningen er at våre veiledningsressurser skal være så relevante og så nyttige som mulig for alle som har en språkjobb å gjøre. Målet for språkrådet sitt arbeid er at vi skal samordne den innsatsen det offentlige gjør for å sikre norsk som brukspråk på alle samfunnsområder og for å verne de andre språk Norge har et særlig ansvar for. Et vesentligt hinder i arbeidet vårt er at vi mangler anvendte forskning i norsk språk. Det arbeider vi nå med å få på plass. Næringslivet og frivillige sektorer har ikke lov på lagt til språkplikter, men fra språkrådet ser vi at vi må ha god kontakt med disse sektorene for at vi som nasjon skal nå de språkpolitiske målene våre. Vi håper derfor at vi fremover vil ha større kapasitet til å gi mer systematiske veiledning og oppfylling til private og frivillige sektorer. Norsk språk er under press. Norsk språk er under press. Vår hovedoppgave er å finne de tiltakene som støtter best opp om det som er vårt fremste felles kulturobjekt, nemlig språket. Da står det bare igjen for meg å si takk for at du tok deg tid til å se denne videoen. Hvis du ønsker å vite mer om det arbeidet vi gjorde i 2022, så finner du årsrapporten til språkrådet på våre nettsider. God lesning!\n"
     ]
    }
   ],
   "source": [
    "result = pipe(\"sound/Språkrådets_årsrapport.mp3\",  generate_kwargs={\"language\": \"norwegian\"}, return_timestamps=True)\n",
    "print(result[\"text\"])\n",
    "\n",
    "# return_timestamps=True)\n"
   ]
  },
  {
   "cell_type": "markdown",
   "metadata": {},
   "source": []
  }
 ],
 "metadata": {
  "kernelspec": {
   "display_name": "Python 3",
   "language": "python",
   "name": "python3"
  },
  "language_info": {
   "codemirror_mode": {
    "name": "ipython",
    "version": 3
   },
   "file_extension": ".py",
   "mimetype": "text/x-python",
   "name": "python",
   "nbconvert_exporter": "python",
   "pygments_lexer": "ipython3",
   "version": "3.11.6"
  },
  "orig_nbformat": 4
 },
 "nbformat": 4,
 "nbformat_minor": 2
}
